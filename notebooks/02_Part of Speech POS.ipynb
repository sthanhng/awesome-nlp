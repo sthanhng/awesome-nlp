{
 "cells": [
  {
   "cell_type": "markdown",
   "metadata": {},
   "source": [
    "# Part of Speech, aka POS"
   ]
  },
  {
   "cell_type": "code",
   "execution_count": 1,
   "metadata": {},
   "outputs": [],
   "source": [
    "# Capture from https://en.wikipedia.org/wiki/Natural_language_processing\n",
    "\n",
    "document = \"Natural language processing (NLP) is a subfield of linguistics, computer science, information \\\n",
    "engineering, and artificial intelligence concerned with the interactions between computers and human (natural) \\\n",
    "languages, in particular how to program computers to process and analyze large amounts of natural language data.\""
   ]
  },
  {
   "cell_type": "markdown",
   "metadata": {},
   "source": [
    "## Using spaCy"
   ]
  },
  {
   "cell_type": "code",
   "execution_count": 2,
   "metadata": {},
   "outputs": [],
   "source": [
    "import spacy\n",
    "\n",
    "nlp = spacy.load(\"en_core_web_sm\")"
   ]
  },
  {
   "cell_type": "markdown",
   "metadata": {},
   "source": [
    "\"a\" is DT which means deteminer. \"part\" is NN which is noun while \"of\" is IN which is preposition."
   ]
  },
  {
   "cell_type": "code",
   "execution_count": 4,
   "metadata": {},
   "outputs": [
    {
     "ename": "SyntaxError",
     "evalue": "invalid syntax (<ipython-input-4-60d01447ffbc>, line 8)",
     "output_type": "error",
     "traceback": [
      "\u001b[1;36m  File \u001b[1;32m\"<ipython-input-4-60d01447ffbc>\"\u001b[1;36m, line \u001b[1;32m8\u001b[0m\n\u001b[1;33m    print(\"Word: {word}, POS: {pos}\".format(word:token.text, pos:token.tag_))\u001b[0m\n\u001b[1;37m                                                ^\u001b[0m\n\u001b[1;31mSyntaxError\u001b[0m\u001b[1;31m:\u001b[0m invalid syntax\n"
     ]
    }
   ],
   "source": [
    "doc = nlp(document)\n",
    "tokens = [token.text for token in doc if not token.is_stop]\n",
    "\n",
    "print(\"Original Document: \\n{}\".format(document))\n",
    "print(\"===\" * 10)\n",
    "\n",
    "for token in doc:\n",
    "    print(\"Word: {0}, POS: {pos}\".format(word:token.text, pos:token.tag_))"
   ]
  },
  {
   "cell_type": "code",
   "execution_count": null,
   "metadata": {},
   "outputs": [],
   "source": []
  }
 ],
 "metadata": {
  "kernelspec": {
   "display_name": "Python 3.7.6 64-bit ('nlp': conda)",
   "language": "python",
   "name": "python37664bitnlpcondae8f196a7f7eb4d7fa6637adff882eb4d"
  },
  "language_info": {
   "codemirror_mode": {
    "name": "ipython",
    "version": 3
   },
   "file_extension": ".py",
   "mimetype": "text/x-python",
   "name": "python",
   "nbconvert_exporter": "python",
   "pygments_lexer": "ipython3",
   "version": "3.7.6"
  }
 },
 "nbformat": 4,
 "nbformat_minor": 4
}
