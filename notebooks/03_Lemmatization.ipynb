{
 "cells": [
  {
   "cell_type": "markdown",
   "metadata": {},
   "source": [
    "# Lemmatization"
   ]
  },
  {
   "cell_type": "markdown",
   "metadata": {},
   "source": [
    "Before lemmatization, document have to been tokenizated."
   ]
  },
  {
   "cell_type": "code",
   "execution_count": 2,
   "metadata": {},
   "outputs": [],
   "source": [
    "# Capture from https://en.wikipedia.org/wiki/Lemmatisation\n",
    "\n",
    "document = \"Lemmatisation (or lemmatization) in linguistics is the process of grouping together \\\n",
    "the inflected forms of a word so they can be analysed as a single item, identified by the word's \\\n",
    "lemma, or dictionary form.\""
   ]
  },
  {
   "cell_type": "markdown",
   "metadata": {},
   "source": [
    "## Using spaCy"
   ]
  },
  {
   "cell_type": "code",
   "execution_count": 3,
   "metadata": {},
   "outputs": [],
   "source": [
    "import spacy\n",
    "\n",
    "nlp = spacy.load(\"en_core_web_sm\")"
   ]
  },
  {
   "cell_type": "code",
   "execution_count": 5,
   "metadata": {},
   "outputs": [
    {
     "name": "stdout",
     "output_type": "stream",
     "text": [
      "Original Document: \n",
      "Lemmatisation (or lemmatization) in linguistics is the process of grouping together the inflected forms of a word so they can be analysed as a single item, identified by the word's lemma, or dictionary form.\n",
      "==============================\n",
      "Original : Lemmatisation, New: lemmatisation\n",
      "Original : linguistics, New: linguistic\n",
      "Original : is, New: be\n",
      "Original : grouping, New: group\n",
      "Original : inflected, New: inflect\n",
      "Original : forms, New: form\n",
      "Original : they, New: -PRON-\n",
      "Original : analysed, New: analyse\n",
      "Original : identified, New: identify\n"
     ]
    }
   ],
   "source": [
    "doc = nlp(document)\n",
    "tokens = [token.text for token in doc]\n",
    "\n",
    "print(\"Original Document: \\n{}\".format(document))\n",
    "print(\"===\" * 10)\n",
    "\n",
    "for token in doc:\n",
    "    if token.text != token.lemma_:\n",
    "        print(\"Original : {0}, New: {1}\".format(token.text, token.lemma_))"
   ]
  },
  {
   "cell_type": "markdown",
   "metadata": {},
   "source": [
    "spaCy will convert word to lower case and changing past tense, gerund form (other tenses as well) to present tense. Also, \"they\" normalize to `\"-PRON-\"` which is pronoun."
   ]
  },
  {
   "cell_type": "markdown",
   "metadata": {},
   "source": [
    "## Using NLTK"
   ]
  },
  {
   "cell_type": "code",
   "execution_count": 6,
   "metadata": {},
   "outputs": [
    {
     "name": "stderr",
     "output_type": "stream",
     "text": [
      "[nltk_data] Downloading package wordnet to\n",
      "[nltk_data]     C:\\Users\\ThanhNS\\AppData\\Roaming\\nltk_data...\n",
      "[nltk_data]   Package wordnet is already up-to-date!\n"
     ]
    }
   ],
   "source": [
    "import nltk\n",
    "\n",
    "nltk.download(\"wordnet\")\n",
    "wordnet_lemmatizer = nltk.stem.WordNetLemmatizer()"
   ]
  },
  {
   "cell_type": "code",
   "execution_count": null,
   "metadata": {},
   "outputs": [
    {
     "name": "stdout",
     "output_type": "stream",
     "text": [
      "Original Document: \n",
      "Lemmatisation (or lemmatization) in linguistics is the process of grouping together the inflected forms of a word so they can be analysed as a single item, identified by the word's lemma, or dictionary form.\n",
      "==============================\n"
     ]
    }
   ],
   "source": [
    "tokens = nltk.word_tokenize(document)\n",
    "\n",
    "print(\"Original Document: \\n{}\".format(document))\n",
    "print(\"===\" * 10)\n",
    "\n",
    "for token in tokens:\n",
    "    lemmatized_token = wordnet_lemmatizer.lemmatize(token)\n",
    "    \n",
    "    if token != lemmatized_token:\n",
    "        print(\"Original : {0}, New: {1}\".format(token, lemmatized_token))"
   ]
  },
  {
   "cell_type": "code",
   "execution_count": null,
   "metadata": {},
   "outputs": [],
   "source": []
  }
 ],
 "metadata": {
  "kernelspec": {
   "display_name": "Python 3.7.6 64-bit ('nlp': conda)",
   "language": "python",
   "name": "python37664bitnlpcondae8f196a7f7eb4d7fa6637adff882eb4d"
  },
  "language_info": {
   "codemirror_mode": {
    "name": "ipython",
    "version": 3
   },
   "file_extension": ".py",
   "mimetype": "text/x-python",
   "name": "python",
   "nbconvert_exporter": "python",
   "pygments_lexer": "ipython3",
   "version": "3.7.6"
  }
 },
 "nbformat": 4,
 "nbformat_minor": 4
}
